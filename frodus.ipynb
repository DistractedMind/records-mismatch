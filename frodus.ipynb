{
 "cells": [
  {
   "cell_type": "code",
   "execution_count": 62,
   "id": "4ce27377-75f3-471c-9443-4e5ac60595a8",
   "metadata": {},
   "outputs": [
    {
     "name": "stdout",
     "output_type": "stream",
     "text": [
      "total 1.9G\n",
      "-rw-rw-r-- 1 user user 916M Aug 20 15:06 2019.jsonl\n",
      "-rw-rw-r-- 1 user user 634M Aug 20 14:58 2020.jsonl\n",
      "-rw-rw-r-- 1 user user 369M Aug 20 14:48 2021.jsonl\n"
     ]
    }
   ],
   "source": [
    "!ls -l -h records/ugo/2022-02"
   ]
  },
  {
   "cell_type": "code",
   "execution_count": 63,
   "id": "c5d76ffc-f100-48d1-aec7-cb68d624c3ca",
   "metadata": {},
   "outputs": [
    {
     "name": "stdout",
     "output_type": "stream",
     "text": [
      "total 4.8G\n",
      "-rw-rw-r-- 1 user user 942M Aug 20 14:42 2016.jsonl\n",
      "-rw-rw-r-- 1 user user 923M Aug 20 15:02 2017.jsonl\n",
      "-rw-rw-r-- 1 user user 891M Aug 20 15:17 2018.jsonl\n",
      "-rw-rw-r-- 1 user user 856M Aug 20 14:46 2019.jsonl\n",
      "-rw-rw-r-- 1 user user 649M Aug 20 14:51 2020.jsonl\n",
      "-rw-rw-r-- 1 user user 550M Aug 20 14:54 2021.jsonl\n",
      "-rw-rw-r-- 1 user user  39M Aug 20 14:51 2022.jsonl\n"
     ]
    }
   ],
   "source": [
    "!ls -l -h records/ugo/2022-08"
   ]
  },
  {
   "cell_type": "code",
   "execution_count": 64,
   "id": "9d3a20cb-8e35-4dfb-86f2-43e1b57fd864",
   "metadata": {},
   "outputs": [
    {
     "name": "stdout",
     "output_type": "stream",
     "text": [
      "total 1.2G\n",
      "-rw-rw-r-- 1 user user 704M Aug 20 15:13 2021.jsonl\n",
      "-rw-rw-r-- 1 user user 478M Aug 20 15:09 2022.jsonl\n"
     ]
    }
   ],
   "source": [
    "!ls -l -h records/ugo/2023-03"
   ]
  },
  {
   "cell_type": "code",
   "execution_count": null,
   "id": "372e0913-6383-4cf1-b46b-0f5ec3557de5",
   "metadata": {},
   "outputs": [],
   "source": [
    "blacklist = {\n",
    "    'case_user_document_num',\n",
    "    'case_document_id',\n",
    "    'case_id',\n",
    "    'case_id_region',\n",
    "    'case_common_document_num',\n",
    "    'case_common_doc_number',\n",
    "    'case_common_event_m2',\n",
    "    'case_user_document_text_tag',\n",
    "    'u_common_case_defendant_m',\n",
    "    'case_regbasenum',\n",
    "    'case_common_parts_m2_search',\n",
    "    'case_common_doc_validity_date',\n",
    "    'case_doc_load_date',\n",
    "    'case_document_load_date',\n",
    "    'case_document_num_build',\n",
    "    'case_document_publ_date',\n",
    "    'case_document_result_date',\n",
    "    'timestamp',\n",
    "    'case_year',\n",
    "    'case_year_entry',\n",
    "    'case_year_result',\n",
    "    'case_common_document_type',\n",
    "    'case_document_result'\n",
    "}"
   ]
  },
  {
   "cell_type": "code",
   "execution_count": 34,
   "id": "50310f57-b286-4240-abb2-6927b8716f97",
   "metadata": {},
   "outputs": [],
   "source": [
    "from collections import defaultdict, Counter\n",
    "import lzma\n",
    "import json\n",
    "import numpy as np\n",
    "import matplotlib.pyplot as plt\n",
    "from datetime import datetime\n",
    "\n",
    "files = {f'ugo/{d}/{y}' for d, r in {'2022-02':range(2019, 2022), '2022-08':range(2016, 2023), '2023-03':range(2021, 2023)}.items() for y in r}\n",
    "records = {f'records/{f}.jsonl' for f in files}\n",
    "keys = {\n",
    "    'id',\n",
    "    'case_common_doc_court',\n",
    "    'case_common_doc_entry_date',\n",
    "    'case_common_doc_result',\n",
    "    'case_common_doc_result_date',\n",
    "    'case_common_judge',\n",
    "    'case_court_type',\n",
    "    'case_doc_district_rf',\n",
    "    'case_doc_instance',\n",
    "    'case_doc_subject_rf_code',\n",
    "    'case_document_articles',\n",
    "    'case_common_type',\n",
    "    'case_user_doc_validity_date',\n",
    "    'txt_exist'\n",
    "}"
   ]
  },
  {
   "cell_type": "code",
   "execution_count": 13,
   "id": "c01f5600-702d-4514-9ae6-b8b3a2b2d59c",
   "metadata": {},
   "outputs": [],
   "source": [
    "def process_record(record):\n",
    "    precord = {key: '-' for key in keys}\n",
    "    for key, value in record.items():\n",
    "        if key in keys:\n",
    "            if key.endswith('date'):\n",
    "                precord[key] = value[:10]\n",
    "            elif key == 'case_document_articles':\n",
    "                precord[key] = [el.replace('[', '').strip() for el in value\n",
    "                                for el in el.split(';')\n",
    "                                for el in el.split(']')\n",
    "                                for el in el.split('-')]\n",
    "            else:\n",
    "                precord[key] = value\n",
    "    return precord\n",
    "\n",
    "def add_to_jsonl(records, wpath):\n",
    "    with open(wpath, 'a') as file:\n",
    "        file.write('\\n'.join(json.dumps(rec) for rec in records) + '\\n')\n",
    "\n",
    "def process_file(r_file, w_file):\n",
    "    with lzma.open(r_file, mode='rt', encoding='utf-8') as file:\n",
    "        precords = []\n",
    "        chunk_size = 0\n",
    "        for line in file:\n",
    "            record = json.loads(line)\n",
    "            precord = process_record(record)\n",
    "            precords.append(precord)\n",
    "            chunk_size += 1\n",
    "            if chunk_size >= 1000:\n",
    "                add_to_jsonl(precords, w_file)\n",
    "                precords = []\n",
    "                chunk_size = 0\n",
    "        add_to_jsonl(precords, w_file)"
   ]
  },
  {
   "cell_type": "code",
   "execution_count": 60,
   "id": "437480d0-a852-45c5-9bb3-16aa011e7600",
   "metadata": {},
   "outputs": [],
   "source": [
    "for f in files:\n",
    "    process_file(f'/mnt/frodus/{f}.unique.jsonl.xz', f'records/{f}.jsonl')"
   ]
  },
  {
   "cell_type": "code",
   "execution_count": 25,
   "id": "e65e3755-5b00-4646-b2c0-21a62996250f",
   "metadata": {},
   "outputs": [],
   "source": [
    "def prepare_data(records, filters=None, filters_b=None):\n",
    "    if filters is None:\n",
    "        filters = {}\n",
    "    if filters_b is None:\n",
    "        filters_b = {}\n",
    "\n",
    "    stats = defaultdict(Counter)\n",
    "    \n",
    "    for rpath in records:\n",
    "        d, y = f'{rpath[12:19]}', f'{rpath[20:24]}'\n",
    "        with open(rpath, 'r') as file:\n",
    "            for line in file:\n",
    "                rec = json.loads(line)\n",
    "                \n",
    "                if any(v not in rec.get(k, '') for k, v in filters.items()):\n",
    "                    continue\n",
    "                \n",
    "                if any(v in rec.get(k, '') for k, v in filters_b.items()):\n",
    "                    continue\n",
    "\n",
    "                stats[d][y] += 1\n",
    "    \n",
    "    return stats"
   ]
  },
  {
   "cell_type": "code",
   "execution_count": 30,
   "id": "dc894304-0bd9-4714-ab54-422c73a27215",
   "metadata": {
    "scrolled": true
   },
   "outputs": [],
   "source": [
    "filters = {'case_doc_district_rf':'Приволжский федеральный округ', 'case_common_doc_result':'Вынесен ПРИГОВОР'}\n",
    "filters_block = {'case_common_judge':'-', 'case_common_type':'-'}\n",
    "\n",
    "data = prepare_data(records)"
   ]
  },
  {
   "cell_type": "code",
   "execution_count": 43,
   "id": "b8107878-3636-4f88-9f5e-1570e845ccb2",
   "metadata": {},
   "outputs": [],
   "source": [
    "def plot_stats(data):\n",
    "    years = sorted(set(year for counter in data.values() for year in counter))\n",
    "    labels = list(data.keys())\n",
    "    \n",
    "    num_dates = len(labels)\n",
    "    width = 0.8 / num_dates\n",
    "    x = np.arange(len(years))\n",
    "    \n",
    "    fig, ax = plt.subplots(figsize=(12, 8))\n",
    "\n",
    "    for i, label in enumerate(labels):\n",
    "        heights = [data[label].get(year, 0) for year in years]\n",
    "        ax.bar(x + i * width, heights, width, label=label)\n",
    "\n",
    "    ax.set_xlabel('Year')\n",
    "    ax.set_ylabel('Count')\n",
    "    ax.set_title('Records Mismatch')\n",
    "    ax.set_xticks(x + (num_dates - 1) * width / 2)\n",
    "    ax.set_xticklabels(years)\n",
    "    ax.legend(title='Download Date')\n",
    "    plt.xticks(rotation=45, ha='right')\n",
    "    plt.tight_layout()\n",
    "    \n",
    "    plt.show()"
   ]
  },
  {
   "cell_type": "code",
   "execution_count": 44,
   "id": "e7356959-7fc6-47ef-8d62-e184e5f41cbc",
   "metadata": {},
   "outputs": [
    {
     "data": {
      "image/png": "[encoded data removed]",
      "text/plain": [
       "<Figure size 1200x800 with 1 Axes>"
      ]
     },
     "metadata": {},
     "output_type": "display_data"
    }
   ],
   "source": [
    "plot_stats(data)"
   ]
  }
 ],
 "metadata": {
  "kernelspec": {
   "display_name": "Python 3 (ipykernel)",
   "language": "python",
   "name": "python3"
  },
  "language_info": {
   "codemirror_mode": {
    "name": "ipython",
    "version": 3
   },
   "file_extension": ".py",
   "mimetype": "text/x-python",
   "name": "python",
   "nbconvert_exporter": "python",
   "pygments_lexer": "ipython3",
   "version": "3.11.6"
  }
 },
 "nbformat": 4,
 "nbformat_minor": 5
}
